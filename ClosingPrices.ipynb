{
  "nbformat": 4,
  "nbformat_minor": 0,
  "metadata": {
    "colab": {
      "name": "ClosingPrices.ipynb",
      "provenance": [],
      "authorship_tag": "ABX9TyMs6obylVrCQ+g31FH8pn4F",
      "include_colab_link": true
    },
    "kernelspec": {
      "name": "python3",
      "display_name": "Python 3"
    }
  },
  "cells": [
    {
      "cell_type": "markdown",
      "metadata": {
        "id": "view-in-github",
        "colab_type": "text"
      },
      "source": [
        "<a href=\"https://colab.research.google.com/github/OscarUngsgard/Cpp-Monte-Carlo-Value-at-Risk-Engine/blob/master/ClosingPrices.ipynb\" target=\"_parent\"><img src=\"https://colab.research.google.com/assets/colab-badge.svg\" alt=\"Open In Colab\"/></a>"
      ]
    },
    {
      "cell_type": "code",
      "metadata": {
        "id": "l52RtDrgSaw3",
        "colab_type": "code",
        "colab": {
          "base_uri": "https://localhost:8080/",
          "height": 391
        },
        "outputId": "ca38bd8a-5e39-43bd-e5ac-19ae49cb3086"
      },
      "source": [
        "!pip install yfinance\n",
        "import yfinance as yf\n",
        "from datetime import datetime\n",
        "from dateutil.relativedelta import relativedelta\n",
        "\n",
        "\n",
        "import pandas as pd\n",
        "import pandas_datareader as pdr"
      ],
      "execution_count": 1,
      "outputs": [
        {
          "output_type": "stream",
          "text": [
            "Collecting yfinance\n",
            "  Downloading https://files.pythonhosted.org/packages/c2/31/8b374a12b90def92a4e27d0fc595fc43635f395984e36a075244d98bd265/yfinance-0.1.54.tar.gz\n",
            "Requirement already satisfied: pandas>=0.24 in /usr/local/lib/python3.6/dist-packages (from yfinance) (1.0.5)\n",
            "Requirement already satisfied: numpy>=1.15 in /usr/local/lib/python3.6/dist-packages (from yfinance) (1.18.5)\n",
            "Requirement already satisfied: requests>=2.20 in /usr/local/lib/python3.6/dist-packages (from yfinance) (2.23.0)\n",
            "Requirement already satisfied: multitasking>=0.0.7 in /usr/local/lib/python3.6/dist-packages (from yfinance) (0.0.9)\n",
            "Requirement already satisfied: python-dateutil>=2.6.1 in /usr/local/lib/python3.6/dist-packages (from pandas>=0.24->yfinance) (2.8.1)\n",
            "Requirement already satisfied: pytz>=2017.2 in /usr/local/lib/python3.6/dist-packages (from pandas>=0.24->yfinance) (2018.9)\n",
            "Requirement already satisfied: certifi>=2017.4.17 in /usr/local/lib/python3.6/dist-packages (from requests>=2.20->yfinance) (2020.6.20)\n",
            "Requirement already satisfied: idna<3,>=2.5 in /usr/local/lib/python3.6/dist-packages (from requests>=2.20->yfinance) (2.9)\n",
            "Requirement already satisfied: chardet<4,>=3.0.2 in /usr/local/lib/python3.6/dist-packages (from requests>=2.20->yfinance) (3.0.4)\n",
            "Requirement already satisfied: urllib3!=1.25.0,!=1.25.1,<1.26,>=1.21.1 in /usr/local/lib/python3.6/dist-packages (from requests>=2.20->yfinance) (1.24.3)\n",
            "Requirement already satisfied: six>=1.5 in /usr/local/lib/python3.6/dist-packages (from python-dateutil>=2.6.1->pandas>=0.24->yfinance) (1.12.0)\n",
            "Building wheels for collected packages: yfinance\n",
            "  Building wheel for yfinance (setup.py) ... \u001b[?25l\u001b[?25hdone\n",
            "  Created wheel for yfinance: filename=yfinance-0.1.54-py2.py3-none-any.whl size=22409 sha256=df7eced3471b505ab368dd9738efc369cfc762d614583b7fe59170f187381d3d\n",
            "  Stored in directory: /root/.cache/pip/wheels/f9/e3/5b/ec24dd2984b12d61e0abf26289746c2436a0e7844f26f2515c\n",
            "Successfully built yfinance\n",
            "Installing collected packages: yfinance\n",
            "Successfully installed yfinance-0.1.54\n"
          ],
          "name": "stdout"
        },
        {
          "output_type": "stream",
          "text": [
            "/usr/local/lib/python3.6/dist-packages/pandas_datareader/compat/__init__.py:7: FutureWarning: pandas.util.testing is deprecated. Use the functions in the public API at pandas.testing instead.\n",
            "  from pandas.util.testing import assert_frame_equal\n"
          ],
          "name": "stderr"
        }
      ]
    },
    {
      "cell_type": "code",
      "metadata": {
        "id": "6hLczvL1SNmX",
        "colab_type": "code",
        "colab": {}
      },
      "source": [
        "def adj_close(YahooTickers,starttime = datetime.today()-relativedelta(months=+36)):\n",
        "    mydata = pd.DataFrame()\n",
        "    for t in YahooTickers:\n",
        "        mydata[t] = yf.Ticker(t).history(start=starttime, end = datetime.today())[\"Close\"]\n",
        "    mydata.fillna(method='ffill', inplace=True) #NA = last value\n",
        "    return mydata"
      ],
      "execution_count": 2,
      "outputs": []
    },
    {
      "cell_type": "code",
      "metadata": {
        "id": "QytcIC7rSXF_",
        "colab_type": "code",
        "colab": {}
      },
      "source": [
        "tickers = ['SF.ST','STORY-B.ST',\"^TNX\", 'EURUSD=X','^GSPC','^OMX','^STOXX50E']\n",
        "df = adj_close(tickers,datetime.today()-relativedelta(months=+36))\n",
        "df.to_csv('riskFactorsnew.csv', index=False, header=False)"
      ],
      "execution_count": 4,
      "outputs": []
    },
    {
      "cell_type": "code",
      "metadata": {
        "id": "5r1CKVvu9JIS",
        "colab_type": "code",
        "colab": {
          "base_uri": "https://localhost:8080/",
          "height": 235
        },
        "outputId": "fc9b4f1d-cdcd-43c4-8047-d409abda117c"
      },
      "source": [
        "df.tail()"
      ],
      "execution_count": 6,
      "outputs": [
        {
          "output_type": "execute_result",
          "data": {
            "text/html": [
              "<div>\n",
              "<style scoped>\n",
              "    .dataframe tbody tr th:only-of-type {\n",
              "        vertical-align: middle;\n",
              "    }\n",
              "\n",
              "    .dataframe tbody tr th {\n",
              "        vertical-align: top;\n",
              "    }\n",
              "\n",
              "    .dataframe thead th {\n",
              "        text-align: right;\n",
              "    }\n",
              "</style>\n",
              "<table border=\"1\" class=\"dataframe\">\n",
              "  <thead>\n",
              "    <tr style=\"text-align: right;\">\n",
              "      <th></th>\n",
              "      <th>SF.ST</th>\n",
              "      <th>STORY-B.ST</th>\n",
              "      <th>^TNX</th>\n",
              "      <th>EURUSD=X</th>\n",
              "      <th>^GSPC</th>\n",
              "      <th>^OMX</th>\n",
              "      <th>^STOXX50E</th>\n",
              "    </tr>\n",
              "    <tr>\n",
              "      <th>Date</th>\n",
              "      <th></th>\n",
              "      <th></th>\n",
              "      <th></th>\n",
              "      <th></th>\n",
              "      <th></th>\n",
              "      <th></th>\n",
              "      <th></th>\n",
              "    </tr>\n",
              "  </thead>\n",
              "  <tbody>\n",
              "    <tr>\n",
              "      <th>2020-06-24</th>\n",
              "      <td>813.0</td>\n",
              "      <td>186.4</td>\n",
              "      <td>0.684</td>\n",
              "      <td>1.1312</td>\n",
              "      <td>3050.33</td>\n",
              "      <td>1642.91</td>\n",
              "      <td>3196.12</td>\n",
              "    </tr>\n",
              "    <tr>\n",
              "      <th>2020-06-25</th>\n",
              "      <td>815.0</td>\n",
              "      <td>185.8</td>\n",
              "      <td>0.674</td>\n",
              "      <td>1.1251</td>\n",
              "      <td>3083.76</td>\n",
              "      <td>1660.96</td>\n",
              "      <td>3218.91</td>\n",
              "    </tr>\n",
              "    <tr>\n",
              "      <th>2020-06-26</th>\n",
              "      <td>835.0</td>\n",
              "      <td>188.8</td>\n",
              "      <td>0.636</td>\n",
              "      <td>1.1222</td>\n",
              "      <td>3009.05</td>\n",
              "      <td>1657.66</td>\n",
              "      <td>3204.17</td>\n",
              "    </tr>\n",
              "    <tr>\n",
              "      <th>2020-06-29</th>\n",
              "      <td>810.0</td>\n",
              "      <td>189.0</td>\n",
              "      <td>0.636</td>\n",
              "      <td>1.1226</td>\n",
              "      <td>3053.24</td>\n",
              "      <td>1671.53</td>\n",
              "      <td>3232.02</td>\n",
              "    </tr>\n",
              "    <tr>\n",
              "      <th>2020-06-30</th>\n",
              "      <td>834.0</td>\n",
              "      <td>191.4</td>\n",
              "      <td>0.645</td>\n",
              "      <td>1.1240</td>\n",
              "      <td>3077.24</td>\n",
              "      <td>1664.38</td>\n",
              "      <td>3234.07</td>\n",
              "    </tr>\n",
              "  </tbody>\n",
              "</table>\n",
              "</div>"
            ],
            "text/plain": [
              "            SF.ST  STORY-B.ST   ^TNX  EURUSD=X    ^GSPC     ^OMX  ^STOXX50E\n",
              "Date                                                                       \n",
              "2020-06-24  813.0       186.4  0.684    1.1312  3050.33  1642.91    3196.12\n",
              "2020-06-25  815.0       185.8  0.674    1.1251  3083.76  1660.96    3218.91\n",
              "2020-06-26  835.0       188.8  0.636    1.1222  3009.05  1657.66    3204.17\n",
              "2020-06-29  810.0       189.0  0.636    1.1226  3053.24  1671.53    3232.02\n",
              "2020-06-30  834.0       191.4  0.645    1.1240  3077.24  1664.38    3234.07"
            ]
          },
          "metadata": {
            "tags": []
          },
          "execution_count": 6
        }
      ]
    }
  ]
}