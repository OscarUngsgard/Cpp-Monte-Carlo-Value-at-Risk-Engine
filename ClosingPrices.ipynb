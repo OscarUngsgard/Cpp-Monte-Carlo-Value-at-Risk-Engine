{
  "nbformat": 4,
  "nbformat_minor": 0,
  "metadata": {
    "colab": {
      "name": "ClosingPrices.ipynb",
      "provenance": [],
      "authorship_tag": "ABX9TyN5ypCBmG1hakB5i2S7iryF",
      "include_colab_link": true
    },
    "kernelspec": {
      "name": "python3",
      "display_name": "Python 3"
    }
  },
  "cells": [
    {
      "cell_type": "markdown",
      "metadata": {
        "id": "view-in-github",
        "colab_type": "text"
      },
      "source": [
        "<a href=\"https://colab.research.google.com/github/OscarUngsgard/Cpp-Monte-Carlo-Value-at-Risk-Engine/blob/master/ClosingPrices.ipynb\" target=\"_parent\"><img src=\"https://colab.research.google.com/assets/colab-badge.svg\" alt=\"Open In Colab\"/></a>"
      ]
    },
    {
      "cell_type": "code",
      "metadata": {
        "id": "l52RtDrgSaw3",
        "colab_type": "code",
        "colab": {}
      },
      "source": [
        "!pip install yfinance\n",
        "import yfinance as yf\n",
        "from datetime import datetime\n",
        "from dateutil.relativedelta import relativedelta\n",
        "\n",
        "\n",
        "import pandas as pd\n",
        "import pandas_datareader as pdr"
      ],
      "execution_count": null,
      "outputs": []
    },
    {
      "cell_type": "code",
      "metadata": {
        "id": "6hLczvL1SNmX",
        "colab_type": "code",
        "colab": {}
      },
      "source": [
        "def adj_close(YahooTickers,starttime = datetime.today()-relativedelta(months=+36)):\n",
        "    mydata = pd.DataFrame()\n",
        "    for t in YahooTickers:\n",
        "        mydata[t] = yf.Ticker(t).history(start=starttime, end = datetime.today())[\"Close\"]\n",
        "    mydata.fillna(method='ffill', inplace=True) #NA = last value\n",
        "    return mydata"
      ],
      "execution_count": 2,
      "outputs": []
    },
    {
      "cell_type": "code",
      "metadata": {
        "id": "QytcIC7rSXF_",
        "colab_type": "code",
        "colab": {}
      },
      "source": [
        "tickers = ['SF.ST','STORY-B.ST',\"^TNX\", 'EURUSD=X','^GSPC','^OMX','^STOXX50E']\n",
        "df = adj_close(tickers,datetime.today()-relativedelta(months=+36))\n",
        "df['^TNX'] = df['^TNX']/100.0 #Make yield absolute measure\n",
        "df.to_csv('riskFactorsnew.csv', index=False, header=False)"
      ],
      "execution_count": 5,
      "outputs": []
    },
    {
      "cell_type": "code",
      "metadata": {
        "id": "5r1CKVvu9JIS",
        "colab_type": "code",
        "colab": {
          "base_uri": "https://localhost:8080/",
          "height": 235
        },
        "outputId": "962937d6-1ab6-49b1-846d-9e0c6d08d8ef"
      },
      "source": [
        "df.tail()"
      ],
      "execution_count": 4,
      "outputs": [
        {
          "output_type": "execute_result",
          "data": {
            "text/html": [
              "<div>\n",
              "<style scoped>\n",
              "    .dataframe tbody tr th:only-of-type {\n",
              "        vertical-align: middle;\n",
              "    }\n",
              "\n",
              "    .dataframe tbody tr th {\n",
              "        vertical-align: top;\n",
              "    }\n",
              "\n",
              "    .dataframe thead th {\n",
              "        text-align: right;\n",
              "    }\n",
              "</style>\n",
              "<table border=\"1\" class=\"dataframe\">\n",
              "  <thead>\n",
              "    <tr style=\"text-align: right;\">\n",
              "      <th></th>\n",
              "      <th>SF.ST</th>\n",
              "      <th>STORY-B.ST</th>\n",
              "      <th>^TNX</th>\n",
              "      <th>EURUSD=X</th>\n",
              "      <th>^GSPC</th>\n",
              "      <th>^OMX</th>\n",
              "      <th>^STOXX50E</th>\n",
              "    </tr>\n",
              "    <tr>\n",
              "      <th>Date</th>\n",
              "      <th></th>\n",
              "      <th></th>\n",
              "      <th></th>\n",
              "      <th></th>\n",
              "      <th></th>\n",
              "      <th></th>\n",
              "      <th></th>\n",
              "    </tr>\n",
              "  </thead>\n",
              "  <tbody>\n",
              "    <tr>\n",
              "      <th>2020-06-30</th>\n",
              "      <td>834.0</td>\n",
              "      <td>191.4</td>\n",
              "      <td>0.653</td>\n",
              "      <td>0.011247</td>\n",
              "      <td>3100.29</td>\n",
              "      <td>1664.38</td>\n",
              "      <td>3234.07</td>\n",
              "    </tr>\n",
              "    <tr>\n",
              "      <th>2020-07-01</th>\n",
              "      <td>841.0</td>\n",
              "      <td>200.0</td>\n",
              "      <td>0.682</td>\n",
              "      <td>0.011236</td>\n",
              "      <td>3115.86</td>\n",
              "      <td>1675.04</td>\n",
              "      <td>3228.45</td>\n",
              "    </tr>\n",
              "    <tr>\n",
              "      <th>2020-07-02</th>\n",
              "      <td>850.0</td>\n",
              "      <td>197.6</td>\n",
              "      <td>0.669</td>\n",
              "      <td>0.011251</td>\n",
              "      <td>3130.01</td>\n",
              "      <td>1703.82</td>\n",
              "      <td>3320.09</td>\n",
              "    </tr>\n",
              "    <tr>\n",
              "      <th>2020-07-03</th>\n",
              "      <td>851.0</td>\n",
              "      <td>198.4</td>\n",
              "      <td>0.669</td>\n",
              "      <td>0.011238</td>\n",
              "      <td>3130.01</td>\n",
              "      <td>1695.26</td>\n",
              "      <td>3294.38</td>\n",
              "    </tr>\n",
              "    <tr>\n",
              "      <th>2020-07-06</th>\n",
              "      <td>848.0</td>\n",
              "      <td>212.5</td>\n",
              "      <td>0.696</td>\n",
              "      <td>0.011326</td>\n",
              "      <td>3130.01</td>\n",
              "      <td>1718.79</td>\n",
              "      <td>3360.47</td>\n",
              "    </tr>\n",
              "  </tbody>\n",
              "</table>\n",
              "</div>"
            ],
            "text/plain": [
              "            SF.ST  STORY-B.ST   ^TNX  EURUSD=X    ^GSPC     ^OMX  ^STOXX50E\n",
              "Date                                                                       \n",
              "2020-06-30  834.0       191.4  0.653  0.011247  3100.29  1664.38    3234.07\n",
              "2020-07-01  841.0       200.0  0.682  0.011236  3115.86  1675.04    3228.45\n",
              "2020-07-02  850.0       197.6  0.669  0.011251  3130.01  1703.82    3320.09\n",
              "2020-07-03  851.0       198.4  0.669  0.011238  3130.01  1695.26    3294.38\n",
              "2020-07-06  848.0       212.5  0.696  0.011326  3130.01  1718.79    3360.47"
            ]
          },
          "metadata": {
            "tags": []
          },
          "execution_count": 4
        }
      ]
    }
  ]
}