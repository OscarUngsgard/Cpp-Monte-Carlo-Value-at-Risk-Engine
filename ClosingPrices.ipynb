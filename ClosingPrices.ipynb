{
  "nbformat": 4,
  "nbformat_minor": 0,
  "metadata": {
    "colab": {
      "name": "ClosingPrices.ipynb",
      "provenance": [],
      "authorship_tag": "ABX9TyPMMzn1A7uOXO8D3VMerSXj",
      "include_colab_link": true
    },
    "kernelspec": {
      "name": "python3",
      "display_name": "Python 3"
    }
  },
  "cells": [
    {
      "cell_type": "markdown",
      "metadata": {
        "id": "view-in-github",
        "colab_type": "text"
      },
      "source": [
        "<a href=\"https://colab.research.google.com/github/OscarUngsgard/Cpp-Monte-Carlo-Value-at-Risk-Engine/blob/master/ClosingPrices.ipynb\" target=\"_parent\"><img src=\"https://colab.research.google.com/assets/colab-badge.svg\" alt=\"Open In Colab\"/></a>"
      ]
    },
    {
      "cell_type": "code",
      "metadata": {
        "id": "l52RtDrgSaw3",
        "colab_type": "code",
        "colab": {}
      },
      "source": [
        "!pip install yfinance\n",
        "import yfinance as yf\n",
        "from datetime import datetime\n",
        "from dateutil.relativedelta import relativedelta\n",
        "\n",
        "\n",
        "import pandas as pd\n",
        "import pandas_datareader as pdr"
      ],
      "execution_count": 0,
      "outputs": []
    },
    {
      "cell_type": "code",
      "metadata": {
        "id": "6hLczvL1SNmX",
        "colab_type": "code",
        "colab": {}
      },
      "source": [
        "def adj_close(YahooTickers,starttime = datetime.today()-relativedelta(months=+12)):\n",
        "    mydata = pd.DataFrame()\n",
        "    for t in YahooTickers:\n",
        "        mydata[t] = yf.Ticker(t).history(start=starttime, end = datetime.today())[\"Close\"]\n",
        "    mydata.fillna(method='ffill', inplace=True) #NA = last value\n",
        "    return mydata"
      ],
      "execution_count": 0,
      "outputs": []
    },
    {
      "cell_type": "code",
      "metadata": {
        "id": "QytcIC7rSXF_",
        "colab_type": "code",
        "colab": {}
      },
      "source": [
        "tickers = ['SF.ST','STORY-B.ST',\"^TNX\", 'EURUSD=X']\n",
        "df = adj_close(tickers)\n",
        "df.to_csv('riskFactorsnew.csv', index=False, header=False)"
      ],
      "execution_count": 0,
      "outputs": []
    }
  ]
}